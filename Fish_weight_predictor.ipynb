{
 "cells": [
  {
   "cell_type": "code",
   "execution_count": 1,
   "metadata": {
    "ExecuteTime": {
     "end_time": "2020-02-18T22:14:22.068078Z",
     "start_time": "2020-02-18T22:14:20.714690Z"
    }
   },
   "outputs": [],
   "source": [
    "import numpy as np\n",
    "import pandas as pd\n",
    "import matplotlib.pyplot as plt\n",
    "import seaborn as sbn\n",
    "from sklearn.preprocessing import OneHotEncoder \n",
    "from sklearn.compose import ColumnTransformer\n",
    "from sklearn import preprocessing\n",
    "from sklearn.linear_model import LinearRegression\n",
    "from sklearn.model_selection import train_test_split\n",
    "from sklearn.metrics import mean_absolute_error, r2_score\n",
    "from sklearn.ensemble import RandomForestRegressor\n",
    "import warnings\n",
    "warnings.filterwarnings('ignore')"
   ]
  },
  {
   "cell_type": "code",
   "execution_count": null,
   "metadata": {},
   "outputs": [],
   "source": []
  },
  {
   "cell_type": "code",
   "execution_count": 2,
   "metadata": {
    "ExecuteTime": {
     "end_time": "2020-02-18T22:14:22.076081Z",
     "start_time": "2020-02-18T22:14:22.069076Z"
    }
   },
   "outputs": [],
   "source": [
    "dataset = pd.read_csv('Fish.csv')"
   ]
  },
  {
   "cell_type": "code",
   "execution_count": null,
   "metadata": {},
   "outputs": [],
   "source": []
  },
  {
   "cell_type": "code",
   "execution_count": 3,
   "metadata": {
    "ExecuteTime": {
     "end_time": "2020-02-18T22:14:22.282539Z",
     "start_time": "2020-02-18T22:14:22.077048Z"
    }
   },
   "outputs": [],
   "source": [
    "dataset.rename(columns={'Length1' :'Body Height', 'Length2' : 'Total Length', 'Length3' : 'Diagonal Length'} , inplace= True)"
   ]
  },
  {
   "cell_type": "code",
   "execution_count": 4,
   "metadata": {
    "ExecuteTime": {
     "end_time": "2020-02-18T22:14:22.448092Z",
     "start_time": "2020-02-18T22:14:22.283505Z"
    }
   },
   "outputs": [
    {
     "data": {
      "text/html": [
       "<div>\n",
       "<style scoped>\n",
       "    .dataframe tbody tr th:only-of-type {\n",
       "        vertical-align: middle;\n",
       "    }\n",
       "\n",
       "    .dataframe tbody tr th {\n",
       "        vertical-align: top;\n",
       "    }\n",
       "\n",
       "    .dataframe thead th {\n",
       "        text-align: right;\n",
       "    }\n",
       "</style>\n",
       "<table border=\"1\" class=\"dataframe\">\n",
       "  <thead>\n",
       "    <tr style=\"text-align: right;\">\n",
       "      <th></th>\n",
       "      <th>Species</th>\n",
       "      <th>Weight</th>\n",
       "      <th>Body Height</th>\n",
       "      <th>Total Length</th>\n",
       "      <th>Diagonal Length</th>\n",
       "      <th>Height</th>\n",
       "      <th>Width</th>\n",
       "    </tr>\n",
       "  </thead>\n",
       "  <tbody>\n",
       "    <tr>\n",
       "      <th>0</th>\n",
       "      <td>Bream</td>\n",
       "      <td>242.0</td>\n",
       "      <td>23.2</td>\n",
       "      <td>25.4</td>\n",
       "      <td>30.0</td>\n",
       "      <td>11.5200</td>\n",
       "      <td>4.0200</td>\n",
       "    </tr>\n",
       "    <tr>\n",
       "      <th>1</th>\n",
       "      <td>Bream</td>\n",
       "      <td>290.0</td>\n",
       "      <td>24.0</td>\n",
       "      <td>26.3</td>\n",
       "      <td>31.2</td>\n",
       "      <td>12.4800</td>\n",
       "      <td>4.3056</td>\n",
       "    </tr>\n",
       "    <tr>\n",
       "      <th>2</th>\n",
       "      <td>Bream</td>\n",
       "      <td>340.0</td>\n",
       "      <td>23.9</td>\n",
       "      <td>26.5</td>\n",
       "      <td>31.1</td>\n",
       "      <td>12.3778</td>\n",
       "      <td>4.6961</td>\n",
       "    </tr>\n",
       "    <tr>\n",
       "      <th>3</th>\n",
       "      <td>Bream</td>\n",
       "      <td>363.0</td>\n",
       "      <td>26.3</td>\n",
       "      <td>29.0</td>\n",
       "      <td>33.5</td>\n",
       "      <td>12.7300</td>\n",
       "      <td>4.4555</td>\n",
       "    </tr>\n",
       "    <tr>\n",
       "      <th>4</th>\n",
       "      <td>Bream</td>\n",
       "      <td>430.0</td>\n",
       "      <td>26.5</td>\n",
       "      <td>29.0</td>\n",
       "      <td>34.0</td>\n",
       "      <td>12.4440</td>\n",
       "      <td>5.1340</td>\n",
       "    </tr>\n",
       "    <tr>\n",
       "      <th>5</th>\n",
       "      <td>Bream</td>\n",
       "      <td>450.0</td>\n",
       "      <td>26.8</td>\n",
       "      <td>29.7</td>\n",
       "      <td>34.7</td>\n",
       "      <td>13.6024</td>\n",
       "      <td>4.9274</td>\n",
       "    </tr>\n",
       "    <tr>\n",
       "      <th>6</th>\n",
       "      <td>Bream</td>\n",
       "      <td>500.0</td>\n",
       "      <td>26.8</td>\n",
       "      <td>29.7</td>\n",
       "      <td>34.5</td>\n",
       "      <td>14.1795</td>\n",
       "      <td>5.2785</td>\n",
       "    </tr>\n",
       "    <tr>\n",
       "      <th>7</th>\n",
       "      <td>Bream</td>\n",
       "      <td>390.0</td>\n",
       "      <td>27.6</td>\n",
       "      <td>30.0</td>\n",
       "      <td>35.0</td>\n",
       "      <td>12.6700</td>\n",
       "      <td>4.6900</td>\n",
       "    </tr>\n",
       "    <tr>\n",
       "      <th>8</th>\n",
       "      <td>Bream</td>\n",
       "      <td>450.0</td>\n",
       "      <td>27.6</td>\n",
       "      <td>30.0</td>\n",
       "      <td>35.1</td>\n",
       "      <td>14.0049</td>\n",
       "      <td>4.8438</td>\n",
       "    </tr>\n",
       "    <tr>\n",
       "      <th>9</th>\n",
       "      <td>Bream</td>\n",
       "      <td>500.0</td>\n",
       "      <td>28.5</td>\n",
       "      <td>30.7</td>\n",
       "      <td>36.2</td>\n",
       "      <td>14.2266</td>\n",
       "      <td>4.9594</td>\n",
       "    </tr>\n",
       "  </tbody>\n",
       "</table>\n",
       "</div>"
      ],
      "text/plain": [
       "  Species  Weight  Body Height  Total Length  Diagonal Length   Height   Width\n",
       "0   Bream   242.0         23.2          25.4             30.0  11.5200  4.0200\n",
       "1   Bream   290.0         24.0          26.3             31.2  12.4800  4.3056\n",
       "2   Bream   340.0         23.9          26.5             31.1  12.3778  4.6961\n",
       "3   Bream   363.0         26.3          29.0             33.5  12.7300  4.4555\n",
       "4   Bream   430.0         26.5          29.0             34.0  12.4440  5.1340\n",
       "5   Bream   450.0         26.8          29.7             34.7  13.6024  4.9274\n",
       "6   Bream   500.0         26.8          29.7             34.5  14.1795  5.2785\n",
       "7   Bream   390.0         27.6          30.0             35.0  12.6700  4.6900\n",
       "8   Bream   450.0         27.6          30.0             35.1  14.0049  4.8438\n",
       "9   Bream   500.0         28.5          30.7             36.2  14.2266  4.9594"
      ]
     },
     "execution_count": 4,
     "metadata": {},
     "output_type": "execute_result"
    }
   ],
   "source": [
    "dataset.head(10)"
   ]
  },
  {
   "cell_type": "code",
   "execution_count": 5,
   "metadata": {
    "ExecuteTime": {
     "end_time": "2020-02-18T22:14:22.622011Z",
     "start_time": "2020-02-18T22:14:22.450096Z"
    }
   },
   "outputs": [
    {
     "data": {
      "text/html": [
       "<div>\n",
       "<style scoped>\n",
       "    .dataframe tbody tr th:only-of-type {\n",
       "        vertical-align: middle;\n",
       "    }\n",
       "\n",
       "    .dataframe tbody tr th {\n",
       "        vertical-align: top;\n",
       "    }\n",
       "\n",
       "    .dataframe thead th {\n",
       "        text-align: right;\n",
       "    }\n",
       "</style>\n",
       "<table border=\"1\" class=\"dataframe\">\n",
       "  <thead>\n",
       "    <tr style=\"text-align: right;\">\n",
       "      <th></th>\n",
       "      <th>Species</th>\n",
       "      <th>Weight</th>\n",
       "      <th>Body Height</th>\n",
       "      <th>Total Length</th>\n",
       "      <th>Diagonal Length</th>\n",
       "      <th>Height</th>\n",
       "      <th>Width</th>\n",
       "    </tr>\n",
       "  </thead>\n",
       "  <tbody>\n",
       "    <tr>\n",
       "      <th>149</th>\n",
       "      <td>Smelt</td>\n",
       "      <td>9.8</td>\n",
       "      <td>10.7</td>\n",
       "      <td>11.2</td>\n",
       "      <td>12.4</td>\n",
       "      <td>2.0832</td>\n",
       "      <td>1.2772</td>\n",
       "    </tr>\n",
       "    <tr>\n",
       "      <th>150</th>\n",
       "      <td>Smelt</td>\n",
       "      <td>8.7</td>\n",
       "      <td>10.8</td>\n",
       "      <td>11.3</td>\n",
       "      <td>12.6</td>\n",
       "      <td>1.9782</td>\n",
       "      <td>1.2852</td>\n",
       "    </tr>\n",
       "    <tr>\n",
       "      <th>151</th>\n",
       "      <td>Smelt</td>\n",
       "      <td>10.0</td>\n",
       "      <td>11.3</td>\n",
       "      <td>11.8</td>\n",
       "      <td>13.1</td>\n",
       "      <td>2.2139</td>\n",
       "      <td>1.2838</td>\n",
       "    </tr>\n",
       "    <tr>\n",
       "      <th>152</th>\n",
       "      <td>Smelt</td>\n",
       "      <td>9.9</td>\n",
       "      <td>11.3</td>\n",
       "      <td>11.8</td>\n",
       "      <td>13.1</td>\n",
       "      <td>2.2139</td>\n",
       "      <td>1.1659</td>\n",
       "    </tr>\n",
       "    <tr>\n",
       "      <th>153</th>\n",
       "      <td>Smelt</td>\n",
       "      <td>9.8</td>\n",
       "      <td>11.4</td>\n",
       "      <td>12.0</td>\n",
       "      <td>13.2</td>\n",
       "      <td>2.2044</td>\n",
       "      <td>1.1484</td>\n",
       "    </tr>\n",
       "    <tr>\n",
       "      <th>154</th>\n",
       "      <td>Smelt</td>\n",
       "      <td>12.2</td>\n",
       "      <td>11.5</td>\n",
       "      <td>12.2</td>\n",
       "      <td>13.4</td>\n",
       "      <td>2.0904</td>\n",
       "      <td>1.3936</td>\n",
       "    </tr>\n",
       "    <tr>\n",
       "      <th>155</th>\n",
       "      <td>Smelt</td>\n",
       "      <td>13.4</td>\n",
       "      <td>11.7</td>\n",
       "      <td>12.4</td>\n",
       "      <td>13.5</td>\n",
       "      <td>2.4300</td>\n",
       "      <td>1.2690</td>\n",
       "    </tr>\n",
       "    <tr>\n",
       "      <th>156</th>\n",
       "      <td>Smelt</td>\n",
       "      <td>12.2</td>\n",
       "      <td>12.1</td>\n",
       "      <td>13.0</td>\n",
       "      <td>13.8</td>\n",
       "      <td>2.2770</td>\n",
       "      <td>1.2558</td>\n",
       "    </tr>\n",
       "    <tr>\n",
       "      <th>157</th>\n",
       "      <td>Smelt</td>\n",
       "      <td>19.7</td>\n",
       "      <td>13.2</td>\n",
       "      <td>14.3</td>\n",
       "      <td>15.2</td>\n",
       "      <td>2.8728</td>\n",
       "      <td>2.0672</td>\n",
       "    </tr>\n",
       "    <tr>\n",
       "      <th>158</th>\n",
       "      <td>Smelt</td>\n",
       "      <td>19.9</td>\n",
       "      <td>13.8</td>\n",
       "      <td>15.0</td>\n",
       "      <td>16.2</td>\n",
       "      <td>2.9322</td>\n",
       "      <td>1.8792</td>\n",
       "    </tr>\n",
       "  </tbody>\n",
       "</table>\n",
       "</div>"
      ],
      "text/plain": [
       "    Species  Weight  Body Height  Total Length  Diagonal Length  Height  \\\n",
       "149   Smelt     9.8         10.7          11.2             12.4  2.0832   \n",
       "150   Smelt     8.7         10.8          11.3             12.6  1.9782   \n",
       "151   Smelt    10.0         11.3          11.8             13.1  2.2139   \n",
       "152   Smelt     9.9         11.3          11.8             13.1  2.2139   \n",
       "153   Smelt     9.8         11.4          12.0             13.2  2.2044   \n",
       "154   Smelt    12.2         11.5          12.2             13.4  2.0904   \n",
       "155   Smelt    13.4         11.7          12.4             13.5  2.4300   \n",
       "156   Smelt    12.2         12.1          13.0             13.8  2.2770   \n",
       "157   Smelt    19.7         13.2          14.3             15.2  2.8728   \n",
       "158   Smelt    19.9         13.8          15.0             16.2  2.9322   \n",
       "\n",
       "      Width  \n",
       "149  1.2772  \n",
       "150  1.2852  \n",
       "151  1.2838  \n",
       "152  1.1659  \n",
       "153  1.1484  \n",
       "154  1.3936  \n",
       "155  1.2690  \n",
       "156  1.2558  \n",
       "157  2.0672  \n",
       "158  1.8792  "
      ]
     },
     "execution_count": 5,
     "metadata": {},
     "output_type": "execute_result"
    }
   ],
   "source": [
    "dataset.tail(10)"
   ]
  },
  {
   "cell_type": "markdown",
   "metadata": {},
   "source": [
    "                                      Investigating the Dataset"
   ]
  },
  {
   "cell_type": "markdown",
   "metadata": {},
   "source": [
    "                        Check if the Dataset contains an empty value or missing value and also it datatype"
   ]
  },
  {
   "cell_type": "code",
   "execution_count": 6,
   "metadata": {
    "ExecuteTime": {
     "end_time": "2020-02-18T22:14:22.787259Z",
     "start_time": "2020-02-18T22:14:22.624721Z"
    }
   },
   "outputs": [
    {
     "name": "stdout",
     "output_type": "stream",
     "text": [
      "Am Column Species with 0 missing values and object datatype\n",
      "Am Column Weight with 0 missing values and float64 datatype\n",
      "Am Column Body Height with 0 missing values and float64 datatype\n",
      "Am Column Total Length with 0 missing values and float64 datatype\n",
      "Am Column Diagonal Length with 0 missing values and float64 datatype\n",
      "Am Column Height with 0 missing values and float64 datatype\n",
      "Am Column Width with 0 missing values and float64 datatype\n"
     ]
    }
   ],
   "source": [
    "for empty in dataset.columns:\n",
    "    \n",
    "    print('Am Column {} with {} missing values and {} datatype'.format(empty,dataset[empty].isnull().sum(),\n",
    "                                                                       dataset[empty].dtype))"
   ]
  },
  {
   "cell_type": "code",
   "execution_count": 7,
   "metadata": {
    "ExecuteTime": {
     "end_time": "2020-02-18T22:14:22.970584Z",
     "start_time": "2020-02-18T22:14:22.789693Z"
    }
   },
   "outputs": [
    {
     "data": {
      "text/html": [
       "<div>\n",
       "<style scoped>\n",
       "    .dataframe tbody tr th:only-of-type {\n",
       "        vertical-align: middle;\n",
       "    }\n",
       "\n",
       "    .dataframe tbody tr th {\n",
       "        vertical-align: top;\n",
       "    }\n",
       "\n",
       "    .dataframe thead th {\n",
       "        text-align: right;\n",
       "    }\n",
       "</style>\n",
       "<table border=\"1\" class=\"dataframe\">\n",
       "  <thead>\n",
       "    <tr style=\"text-align: right;\">\n",
       "      <th></th>\n",
       "      <th>Weight</th>\n",
       "      <th>Body Height</th>\n",
       "      <th>Total Length</th>\n",
       "      <th>Diagonal Length</th>\n",
       "      <th>Height</th>\n",
       "      <th>Width</th>\n",
       "    </tr>\n",
       "  </thead>\n",
       "  <tbody>\n",
       "    <tr>\n",
       "      <th>count</th>\n",
       "      <td>159.000000</td>\n",
       "      <td>159.000000</td>\n",
       "      <td>159.000000</td>\n",
       "      <td>159.000000</td>\n",
       "      <td>159.000000</td>\n",
       "      <td>159.000000</td>\n",
       "    </tr>\n",
       "    <tr>\n",
       "      <th>mean</th>\n",
       "      <td>398.326415</td>\n",
       "      <td>26.247170</td>\n",
       "      <td>28.415723</td>\n",
       "      <td>31.227044</td>\n",
       "      <td>8.970994</td>\n",
       "      <td>4.417486</td>\n",
       "    </tr>\n",
       "    <tr>\n",
       "      <th>std</th>\n",
       "      <td>357.978317</td>\n",
       "      <td>9.996441</td>\n",
       "      <td>10.716328</td>\n",
       "      <td>11.610246</td>\n",
       "      <td>4.286208</td>\n",
       "      <td>1.685804</td>\n",
       "    </tr>\n",
       "    <tr>\n",
       "      <th>min</th>\n",
       "      <td>0.000000</td>\n",
       "      <td>7.500000</td>\n",
       "      <td>8.400000</td>\n",
       "      <td>8.800000</td>\n",
       "      <td>1.728400</td>\n",
       "      <td>1.047600</td>\n",
       "    </tr>\n",
       "    <tr>\n",
       "      <th>25%</th>\n",
       "      <td>120.000000</td>\n",
       "      <td>19.050000</td>\n",
       "      <td>21.000000</td>\n",
       "      <td>23.150000</td>\n",
       "      <td>5.944800</td>\n",
       "      <td>3.385650</td>\n",
       "    </tr>\n",
       "    <tr>\n",
       "      <th>50%</th>\n",
       "      <td>273.000000</td>\n",
       "      <td>25.200000</td>\n",
       "      <td>27.300000</td>\n",
       "      <td>29.400000</td>\n",
       "      <td>7.786000</td>\n",
       "      <td>4.248500</td>\n",
       "    </tr>\n",
       "    <tr>\n",
       "      <th>75%</th>\n",
       "      <td>650.000000</td>\n",
       "      <td>32.700000</td>\n",
       "      <td>35.500000</td>\n",
       "      <td>39.650000</td>\n",
       "      <td>12.365900</td>\n",
       "      <td>5.584500</td>\n",
       "    </tr>\n",
       "    <tr>\n",
       "      <th>max</th>\n",
       "      <td>1650.000000</td>\n",
       "      <td>59.000000</td>\n",
       "      <td>63.400000</td>\n",
       "      <td>68.000000</td>\n",
       "      <td>18.957000</td>\n",
       "      <td>8.142000</td>\n",
       "    </tr>\n",
       "  </tbody>\n",
       "</table>\n",
       "</div>"
      ],
      "text/plain": [
       "            Weight  Body Height  Total Length  Diagonal Length      Height  \\\n",
       "count   159.000000   159.000000    159.000000       159.000000  159.000000   \n",
       "mean    398.326415    26.247170     28.415723        31.227044    8.970994   \n",
       "std     357.978317     9.996441     10.716328        11.610246    4.286208   \n",
       "min       0.000000     7.500000      8.400000         8.800000    1.728400   \n",
       "25%     120.000000    19.050000     21.000000        23.150000    5.944800   \n",
       "50%     273.000000    25.200000     27.300000        29.400000    7.786000   \n",
       "75%     650.000000    32.700000     35.500000        39.650000   12.365900   \n",
       "max    1650.000000    59.000000     63.400000        68.000000   18.957000   \n",
       "\n",
       "            Width  \n",
       "count  159.000000  \n",
       "mean     4.417486  \n",
       "std      1.685804  \n",
       "min      1.047600  \n",
       "25%      3.385650  \n",
       "50%      4.248500  \n",
       "75%      5.584500  \n",
       "max      8.142000  "
      ]
     },
     "execution_count": 7,
     "metadata": {},
     "output_type": "execute_result"
    }
   ],
   "source": [
    "dataset.describe()"
   ]
  },
  {
   "cell_type": "code",
   "execution_count": 8,
   "metadata": {
    "ExecuteTime": {
     "end_time": "2020-02-18T22:14:23.141357Z",
     "start_time": "2020-02-18T22:14:22.972580Z"
    }
   },
   "outputs": [
    {
     "data": {
      "text/plain": [
       "Perch        56\n",
       "Bream        35\n",
       "Roach        20\n",
       "Pike         17\n",
       "Smelt        14\n",
       "Parkki       11\n",
       "Whitefish     6\n",
       "Name: Species, dtype: int64"
      ]
     },
     "execution_count": 8,
     "metadata": {},
     "output_type": "execute_result"
    }
   ],
   "source": [
    "dataset.Species.value_counts()"
   ]
  },
  {
   "cell_type": "code",
   "execution_count": null,
   "metadata": {},
   "outputs": [],
   "source": []
  },
  {
   "cell_type": "markdown",
   "metadata": {},
   "source": [
    "Based on the value_counts above it seems whitefish is least represented here, let visualize it with a histogram"
   ]
  },
  {
   "cell_type": "markdown",
   "metadata": {},
   "source": [
    "                                 Histogram for the distribution of the 7-Species"
   ]
  },
  {
   "cell_type": "code",
   "execution_count": 9,
   "metadata": {
    "ExecuteTime": {
     "end_time": "2020-02-18T22:14:23.492214Z",
     "start_time": "2020-02-18T22:14:23.143825Z"
    }
   },
   "outputs": [
    {
     "data": {
      "image/png": "[encoded data removed]",
      "text/plain": [
       "<Figure size 432x288 with 1 Axes>"
      ]
     },
     "metadata": {
      "needs_background": "light"
     },
     "output_type": "display_data"
    }
   ],
   "source": [
    "dataset.Species.hist(bins = 20, grid = False, xlabelsize= 10, ylabelsize= 10, linewidth = 3.0)\n",
    "plt.tight_layout(rect=(0, 0, 1.5, 1.5))   \n"
   ]
  },
  {
   "cell_type": "code",
   "execution_count": null,
   "metadata": {},
   "outputs": [],
   "source": []
  },
  {
   "cell_type": "code",
   "execution_count": 10,
   "metadata": {
    "ExecuteTime": {
     "end_time": "2020-02-18T22:14:23.656638Z",
     "start_time": "2020-02-18T22:14:23.493481Z"
    }
   },
   "outputs": [
    {
     "data": {
      "text/plain": [
       "(array([0.08571429, 0.        , 0.        , 0.08571429, 0.08571429,\n",
       "        0.        , 0.08571429, 0.        , 0.08571429, 0.        ,\n",
       "        0.        , 0.        , 0.        , 0.        , 0.        ,\n",
       "        0.        , 0.        , 0.08571429, 0.        , 0.        ,\n",
       "        0.        , 0.        , 0.        , 0.        , 0.        ,\n",
       "        0.        , 0.        , 0.        , 0.        , 0.08571429]),\n",
       " array([ 6.        ,  7.66666667,  9.33333333, 11.        , 12.66666667,\n",
       "        14.33333333, 16.        , 17.66666667, 19.33333333, 21.        ,\n",
       "        22.66666667, 24.33333333, 26.        , 27.66666667, 29.33333333,\n",
       "        31.        , 32.66666667, 34.33333333, 36.        , 37.66666667,\n",
       "        39.33333333, 41.        , 42.66666667, 44.33333333, 46.        ,\n",
       "        47.66666667, 49.33333333, 51.        , 52.66666667, 54.33333333,\n",
       "        56.        ]),\n",
       " <a list of 30 Patch objects>)"
      ]
     },
     "execution_count": 10,
     "metadata": {},
     "output_type": "execute_result"
    },
    {
     "data": {
      "image/png": "[encoded data removed]",
      "text/plain": [
       "<Figure size 432x288 with 1 Axes>"
      ]
     },
     "metadata": {
      "needs_background": "light"
     },
     "output_type": "display_data"
    }
   ],
   "source": [
    "plt.hist(dataset.Species.value_counts(), bins =30, normed = True)"
   ]
  },
  {
   "cell_type": "markdown",
   "metadata": {},
   "source": [
    "                                   Visualiziung Independent variable as a 1D data "
   ]
  },
  {
   "cell_type": "code",
   "execution_count": null,
   "metadata": {},
   "outputs": [],
   "source": []
  },
  {
   "cell_type": "code",
   "execution_count": 11,
   "metadata": {
    "ExecuteTime": {
     "end_time": "2020-02-18T22:14:24.651288Z",
     "start_time": "2020-02-18T22:14:23.657846Z"
    }
   },
   "outputs": [
    {
     "data": {
      "image/png": "[encoded data removed]",
      "text/plain": [
       "<Figure size 432x288 with 6 Axes>"
      ]
     },
     "metadata": {
      "needs_background": "light"
     },
     "output_type": "display_data"
    }
   ],
   "source": [
    "\n",
    "dataset.hist(bins = 20, grid = False, xlabelsize= 10, ylabelsize= 10, linewidth = 3.0)\n",
    "plt.tight_layout(rect=(0, 0, 1.5, 1.5))  "
   ]
  },
  {
   "cell_type": "markdown",
   "metadata": {},
   "source": [
    "                          Checking the correlation between the variables "
   ]
  },
  {
   "cell_type": "code",
   "execution_count": null,
   "metadata": {},
   "outputs": [],
   "source": [
    " "
   ]
  },
  {
   "cell_type": "code",
   "execution_count": 12,
   "metadata": {
    "ExecuteTime": {
     "end_time": "2020-02-18T22:14:24.663855Z",
     "start_time": "2020-02-18T22:14:24.652286Z"
    }
   },
   "outputs": [
    {
     "data": {
      "text/html": [
       "<div>\n",
       "<style scoped>\n",
       "    .dataframe tbody tr th:only-of-type {\n",
       "        vertical-align: middle;\n",
       "    }\n",
       "\n",
       "    .dataframe tbody tr th {\n",
       "        vertical-align: top;\n",
       "    }\n",
       "\n",
       "    .dataframe thead th {\n",
       "        text-align: right;\n",
       "    }\n",
       "</style>\n",
       "<table border=\"1\" class=\"dataframe\">\n",
       "  <thead>\n",
       "    <tr style=\"text-align: right;\">\n",
       "      <th></th>\n",
       "      <th>Weight</th>\n",
       "      <th>Body Height</th>\n",
       "      <th>Total Length</th>\n",
       "      <th>Diagonal Length</th>\n",
       "      <th>Height</th>\n",
       "      <th>Width</th>\n",
       "    </tr>\n",
       "  </thead>\n",
       "  <tbody>\n",
       "    <tr>\n",
       "      <th>Weight</th>\n",
       "      <td>1.000000</td>\n",
       "      <td>0.915712</td>\n",
       "      <td>0.918618</td>\n",
       "      <td>0.923044</td>\n",
       "      <td>0.724345</td>\n",
       "      <td>0.886507</td>\n",
       "    </tr>\n",
       "    <tr>\n",
       "      <th>Body Height</th>\n",
       "      <td>0.915712</td>\n",
       "      <td>1.000000</td>\n",
       "      <td>0.999517</td>\n",
       "      <td>0.992031</td>\n",
       "      <td>0.625378</td>\n",
       "      <td>0.867050</td>\n",
       "    </tr>\n",
       "    <tr>\n",
       "      <th>Total Length</th>\n",
       "      <td>0.918618</td>\n",
       "      <td>0.999517</td>\n",
       "      <td>1.000000</td>\n",
       "      <td>0.994103</td>\n",
       "      <td>0.640441</td>\n",
       "      <td>0.873547</td>\n",
       "    </tr>\n",
       "    <tr>\n",
       "      <th>Diagonal Length</th>\n",
       "      <td>0.923044</td>\n",
       "      <td>0.992031</td>\n",
       "      <td>0.994103</td>\n",
       "      <td>1.000000</td>\n",
       "      <td>0.703409</td>\n",
       "      <td>0.878520</td>\n",
       "    </tr>\n",
       "    <tr>\n",
       "      <th>Height</th>\n",
       "      <td>0.724345</td>\n",
       "      <td>0.625378</td>\n",
       "      <td>0.640441</td>\n",
       "      <td>0.703409</td>\n",
       "      <td>1.000000</td>\n",
       "      <td>0.792881</td>\n",
       "    </tr>\n",
       "    <tr>\n",
       "      <th>Width</th>\n",
       "      <td>0.886507</td>\n",
       "      <td>0.867050</td>\n",
       "      <td>0.873547</td>\n",
       "      <td>0.878520</td>\n",
       "      <td>0.792881</td>\n",
       "      <td>1.000000</td>\n",
       "    </tr>\n",
       "  </tbody>\n",
       "</table>\n",
       "</div>"
      ],
      "text/plain": [
       "                   Weight  Body Height  Total Length  Diagonal Length  \\\n",
       "Weight           1.000000     0.915712      0.918618         0.923044   \n",
       "Body Height      0.915712     1.000000      0.999517         0.992031   \n",
       "Total Length     0.918618     0.999517      1.000000         0.994103   \n",
       "Diagonal Length  0.923044     0.992031      0.994103         1.000000   \n",
       "Height           0.724345     0.625378      0.640441         0.703409   \n",
       "Width            0.886507     0.867050      0.873547         0.878520   \n",
       "\n",
       "                   Height     Width  \n",
       "Weight           0.724345  0.886507  \n",
       "Body Height      0.625378  0.867050  \n",
       "Total Length     0.640441  0.873547  \n",
       "Diagonal Length  0.703409  0.878520  \n",
       "Height           1.000000  0.792881  \n",
       "Width            0.792881  1.000000  "
      ]
     },
     "execution_count": 12,
     "metadata": {},
     "output_type": "execute_result"
    }
   ],
   "source": [
    "corr = dataset.corr()\n",
    "corr"
   ]
  },
  {
   "cell_type": "code",
   "execution_count": 13,
   "metadata": {
    "ExecuteTime": {
     "end_time": "2020-02-18T22:14:25.113884Z",
     "start_time": "2020-02-18T22:14:24.665850Z"
    }
   },
   "outputs": [
    {
     "data": {
      "image/png": "[encoded data removed]",
      "text/plain": [
       "<Figure size 720x432 with 2 Axes>"
      ]
     },
     "metadata": {
      "needs_background": "light"
     },
     "output_type": "display_data"
    }
   ],
   "source": [
    "f, ax = plt.subplots(figsize=(10,6))\n",
    "sbn.heatmap(corr, annot=True, ax = ax, linewidths=1.9, fmt='1.2f')\n",
    "f.subplots_adjust(top = 1)"
   ]
  },
  {
   "cell_type": "markdown",
   "metadata": {},
   "source": [
    "               The above heatmap show the how the six variable correlate with the weight of the fishies"
   ]
  },
  {
   "cell_type": "markdown",
   "metadata": {},
   "source": [
    "                                     *Diving into Data cleaning and modeling* "
   ]
  },
  {
   "cell_type": "code",
   "execution_count": 14,
   "metadata": {
    "ExecuteTime": {
     "end_time": "2020-02-18T22:14:25.139934Z",
     "start_time": "2020-02-18T22:14:25.115879Z"
    }
   },
   "outputs": [
    {
     "data": {
      "text/html": [
       "<div>\n",
       "<style scoped>\n",
       "    .dataframe tbody tr th:only-of-type {\n",
       "        vertical-align: middle;\n",
       "    }\n",
       "\n",
       "    .dataframe tbody tr th {\n",
       "        vertical-align: top;\n",
       "    }\n",
       "\n",
       "    .dataframe thead th {\n",
       "        text-align: right;\n",
       "    }\n",
       "</style>\n",
       "<table border=\"1\" class=\"dataframe\">\n",
       "  <thead>\n",
       "    <tr style=\"text-align: right;\">\n",
       "      <th></th>\n",
       "      <th>Species</th>\n",
       "      <th>Body Height</th>\n",
       "      <th>Total Length</th>\n",
       "      <th>Diagonal Length</th>\n",
       "      <th>Height</th>\n",
       "      <th>Width</th>\n",
       "    </tr>\n",
       "  </thead>\n",
       "  <tbody>\n",
       "    <tr>\n",
       "      <th>0</th>\n",
       "      <td>Bream</td>\n",
       "      <td>23.2</td>\n",
       "      <td>25.4</td>\n",
       "      <td>30.0</td>\n",
       "      <td>11.5200</td>\n",
       "      <td>4.0200</td>\n",
       "    </tr>\n",
       "    <tr>\n",
       "      <th>1</th>\n",
       "      <td>Bream</td>\n",
       "      <td>24.0</td>\n",
       "      <td>26.3</td>\n",
       "      <td>31.2</td>\n",
       "      <td>12.4800</td>\n",
       "      <td>4.3056</td>\n",
       "    </tr>\n",
       "    <tr>\n",
       "      <th>2</th>\n",
       "      <td>Bream</td>\n",
       "      <td>23.9</td>\n",
       "      <td>26.5</td>\n",
       "      <td>31.1</td>\n",
       "      <td>12.3778</td>\n",
       "      <td>4.6961</td>\n",
       "    </tr>\n",
       "    <tr>\n",
       "      <th>3</th>\n",
       "      <td>Bream</td>\n",
       "      <td>26.3</td>\n",
       "      <td>29.0</td>\n",
       "      <td>33.5</td>\n",
       "      <td>12.7300</td>\n",
       "      <td>4.4555</td>\n",
       "    </tr>\n",
       "    <tr>\n",
       "      <th>4</th>\n",
       "      <td>Bream</td>\n",
       "      <td>26.5</td>\n",
       "      <td>29.0</td>\n",
       "      <td>34.0</td>\n",
       "      <td>12.4440</td>\n",
       "      <td>5.1340</td>\n",
       "    </tr>\n",
       "    <tr>\n",
       "      <th>...</th>\n",
       "      <td>...</td>\n",
       "      <td>...</td>\n",
       "      <td>...</td>\n",
       "      <td>...</td>\n",
       "      <td>...</td>\n",
       "      <td>...</td>\n",
       "    </tr>\n",
       "    <tr>\n",
       "      <th>154</th>\n",
       "      <td>Smelt</td>\n",
       "      <td>11.5</td>\n",
       "      <td>12.2</td>\n",
       "      <td>13.4</td>\n",
       "      <td>2.0904</td>\n",
       "      <td>1.3936</td>\n",
       "    </tr>\n",
       "    <tr>\n",
       "      <th>155</th>\n",
       "      <td>Smelt</td>\n",
       "      <td>11.7</td>\n",
       "      <td>12.4</td>\n",
       "      <td>13.5</td>\n",
       "      <td>2.4300</td>\n",
       "      <td>1.2690</td>\n",
       "    </tr>\n",
       "    <tr>\n",
       "      <th>156</th>\n",
       "      <td>Smelt</td>\n",
       "      <td>12.1</td>\n",
       "      <td>13.0</td>\n",
       "      <td>13.8</td>\n",
       "      <td>2.2770</td>\n",
       "      <td>1.2558</td>\n",
       "    </tr>\n",
       "    <tr>\n",
       "      <th>157</th>\n",
       "      <td>Smelt</td>\n",
       "      <td>13.2</td>\n",
       "      <td>14.3</td>\n",
       "      <td>15.2</td>\n",
       "      <td>2.8728</td>\n",
       "      <td>2.0672</td>\n",
       "    </tr>\n",
       "    <tr>\n",
       "      <th>158</th>\n",
       "      <td>Smelt</td>\n",
       "      <td>13.8</td>\n",
       "      <td>15.0</td>\n",
       "      <td>16.2</td>\n",
       "      <td>2.9322</td>\n",
       "      <td>1.8792</td>\n",
       "    </tr>\n",
       "  </tbody>\n",
       "</table>\n",
       "<p>159 rows × 6 columns</p>\n",
       "</div>"
      ],
      "text/plain": [
       "    Species  Body Height  Total Length  Diagonal Length   Height   Width\n",
       "0     Bream         23.2          25.4             30.0  11.5200  4.0200\n",
       "1     Bream         24.0          26.3             31.2  12.4800  4.3056\n",
       "2     Bream         23.9          26.5             31.1  12.3778  4.6961\n",
       "3     Bream         26.3          29.0             33.5  12.7300  4.4555\n",
       "4     Bream         26.5          29.0             34.0  12.4440  5.1340\n",
       "..      ...          ...           ...              ...      ...     ...\n",
       "154   Smelt         11.5          12.2             13.4   2.0904  1.3936\n",
       "155   Smelt         11.7          12.4             13.5   2.4300  1.2690\n",
       "156   Smelt         12.1          13.0             13.8   2.2770  1.2558\n",
       "157   Smelt         13.2          14.3             15.2   2.8728  2.0672\n",
       "158   Smelt         13.8          15.0             16.2   2.9322  1.8792\n",
       "\n",
       "[159 rows x 6 columns]"
      ]
     },
     "execution_count": 14,
     "metadata": {},
     "output_type": "execute_result"
    }
   ],
   "source": [
    "# dividing the dataset into X and Y category\n",
    "features = ['Species','Body Height', 'Total Length', 'Diagonal Length', 'Height', 'Width']\n",
    "x = dataset[features]\n",
    "y = dataset['Weight']\n",
    "#y = dataset.Weight   another way of getting the column value of weight\n",
    "x"
   ]
  },
  {
   "cell_type": "markdown",
   "metadata": {},
   "source": [
    "  Since we have no missing values, we go straight into checking for linearity of the datasets and encoding the categorical data "
   ]
  },
  {
   "cell_type": "markdown",
   "metadata": {},
   "source": [
    "### it is adviceable to validate that certain assumptions are met in terms of the dataset, we will pick two independent variables and check there linearity with the dependent variable"
   ]
  },
  {
   "cell_type": "markdown",
   "metadata": {},
   "source": []
  },
  {
   "cell_type": "code",
   "execution_count": 15,
   "metadata": {
    "ExecuteTime": {
     "end_time": "2020-02-18T22:14:25.420862Z",
     "start_time": "2020-02-18T22:14:25.141358Z"
    }
   },
   "outputs": [
    {
     "data": {
      "image/png": "[encoded data removed]",
      "text/plain": [
       "<Figure size 432x288 with 1 Axes>"
      ]
     },
     "metadata": {
      "needs_background": "light"
     },
     "output_type": "display_data"
    }
   ],
   "source": [
    "plt.scatter(x['Height'],y, color = 'red')\n",
    "plt.title('Height & Weight')\n",
    "plt.xlabel('Height')\n",
    "plt.ylabel('Weight')\n",
    "plt.grid(True)"
   ]
  },
  {
   "cell_type": "code",
   "execution_count": 16,
   "metadata": {
    "ExecuteTime": {
     "end_time": "2020-02-18T22:14:25.502004Z",
     "start_time": "2020-02-18T22:14:25.422946Z"
    }
   },
   "outputs": [
    {
     "data": {
      "text/html": [
       "<div>\n",
       "<style scoped>\n",
       "    .dataframe tbody tr th:only-of-type {\n",
       "        vertical-align: middle;\n",
       "    }\n",
       "\n",
       "    .dataframe tbody tr th {\n",
       "        vertical-align: top;\n",
       "    }\n",
       "\n",
       "    .dataframe thead th {\n",
       "        text-align: right;\n",
       "    }\n",
       "</style>\n",
       "<table border=\"1\" class=\"dataframe\">\n",
       "  <thead>\n",
       "    <tr style=\"text-align: right;\">\n",
       "      <th></th>\n",
       "      <th>Species</th>\n",
       "      <th>Body Height</th>\n",
       "      <th>Total Length</th>\n",
       "      <th>Diagonal Length</th>\n",
       "      <th>Height</th>\n",
       "      <th>Width</th>\n",
       "    </tr>\n",
       "  </thead>\n",
       "  <tbody>\n",
       "    <tr>\n",
       "      <th>0</th>\n",
       "      <td>Bream</td>\n",
       "      <td>23.2</td>\n",
       "      <td>25.4</td>\n",
       "      <td>30.0</td>\n",
       "      <td>11.5200</td>\n",
       "      <td>4.0200</td>\n",
       "    </tr>\n",
       "    <tr>\n",
       "      <th>1</th>\n",
       "      <td>Bream</td>\n",
       "      <td>24.0</td>\n",
       "      <td>26.3</td>\n",
       "      <td>31.2</td>\n",
       "      <td>12.4800</td>\n",
       "      <td>4.3056</td>\n",
       "    </tr>\n",
       "    <tr>\n",
       "      <th>2</th>\n",
       "      <td>Bream</td>\n",
       "      <td>23.9</td>\n",
       "      <td>26.5</td>\n",
       "      <td>31.1</td>\n",
       "      <td>12.3778</td>\n",
       "      <td>4.6961</td>\n",
       "    </tr>\n",
       "    <tr>\n",
       "      <th>3</th>\n",
       "      <td>Bream</td>\n",
       "      <td>26.3</td>\n",
       "      <td>29.0</td>\n",
       "      <td>33.5</td>\n",
       "      <td>12.7300</td>\n",
       "      <td>4.4555</td>\n",
       "    </tr>\n",
       "    <tr>\n",
       "      <th>4</th>\n",
       "      <td>Bream</td>\n",
       "      <td>26.5</td>\n",
       "      <td>29.0</td>\n",
       "      <td>34.0</td>\n",
       "      <td>12.4440</td>\n",
       "      <td>5.1340</td>\n",
       "    </tr>\n",
       "    <tr>\n",
       "      <th>...</th>\n",
       "      <td>...</td>\n",
       "      <td>...</td>\n",
       "      <td>...</td>\n",
       "      <td>...</td>\n",
       "      <td>...</td>\n",
       "      <td>...</td>\n",
       "    </tr>\n",
       "    <tr>\n",
       "      <th>154</th>\n",
       "      <td>Smelt</td>\n",
       "      <td>11.5</td>\n",
       "      <td>12.2</td>\n",
       "      <td>13.4</td>\n",
       "      <td>2.0904</td>\n",
       "      <td>1.3936</td>\n",
       "    </tr>\n",
       "    <tr>\n",
       "      <th>155</th>\n",
       "      <td>Smelt</td>\n",
       "      <td>11.7</td>\n",
       "      <td>12.4</td>\n",
       "      <td>13.5</td>\n",
       "      <td>2.4300</td>\n",
       "      <td>1.2690</td>\n",
       "    </tr>\n",
       "    <tr>\n",
       "      <th>156</th>\n",
       "      <td>Smelt</td>\n",
       "      <td>12.1</td>\n",
       "      <td>13.0</td>\n",
       "      <td>13.8</td>\n",
       "      <td>2.2770</td>\n",
       "      <td>1.2558</td>\n",
       "    </tr>\n",
       "    <tr>\n",
       "      <th>157</th>\n",
       "      <td>Smelt</td>\n",
       "      <td>13.2</td>\n",
       "      <td>14.3</td>\n",
       "      <td>15.2</td>\n",
       "      <td>2.8728</td>\n",
       "      <td>2.0672</td>\n",
       "    </tr>\n",
       "    <tr>\n",
       "      <th>158</th>\n",
       "      <td>Smelt</td>\n",
       "      <td>13.8</td>\n",
       "      <td>15.0</td>\n",
       "      <td>16.2</td>\n",
       "      <td>2.9322</td>\n",
       "      <td>1.8792</td>\n",
       "    </tr>\n",
       "  </tbody>\n",
       "</table>\n",
       "<p>159 rows × 6 columns</p>\n",
       "</div>"
      ],
      "text/plain": [
       "    Species  Body Height  Total Length  Diagonal Length   Height   Width\n",
       "0     Bream         23.2          25.4             30.0  11.5200  4.0200\n",
       "1     Bream         24.0          26.3             31.2  12.4800  4.3056\n",
       "2     Bream         23.9          26.5             31.1  12.3778  4.6961\n",
       "3     Bream         26.3          29.0             33.5  12.7300  4.4555\n",
       "4     Bream         26.5          29.0             34.0  12.4440  5.1340\n",
       "..      ...          ...           ...              ...      ...     ...\n",
       "154   Smelt         11.5          12.2             13.4   2.0904  1.3936\n",
       "155   Smelt         11.7          12.4             13.5   2.4300  1.2690\n",
       "156   Smelt         12.1          13.0             13.8   2.2770  1.2558\n",
       "157   Smelt         13.2          14.3             15.2   2.8728  2.0672\n",
       "158   Smelt         13.8          15.0             16.2   2.9322  1.8792\n",
       "\n",
       "[159 rows x 6 columns]"
      ]
     },
     "execution_count": 16,
     "metadata": {},
     "output_type": "execute_result"
    }
   ],
   "source": [
    "x"
   ]
  },
  {
   "cell_type": "code",
   "execution_count": 17,
   "metadata": {
    "ExecuteTime": {
     "end_time": "2020-02-18T22:14:25.792302Z",
     "start_time": "2020-02-18T22:14:25.503635Z"
    }
   },
   "outputs": [
    {
     "data": {
      "image/png": "[encoded data removed]",
      "text/plain": [
       "<Figure size 432x288 with 1 Axes>"
      ]
     },
     "metadata": {
      "needs_background": "light"
     },
     "output_type": "display_data"
    }
   ],
   "source": [
    "plt.scatter(x['Width'],y , color = ['blue'])\n",
    "plt.title('Width $ Weight')\n",
    "plt.xlabel('Width')\n",
    "plt.ylabel('Weight')\n",
    "plt.grid(True)"
   ]
  },
  {
   "cell_type": "markdown",
   "metadata": {},
   "source": [
    "As we can see there exist a linear relationship between these variable in each case.\n",
    "\n",
    "1. in the case of the height, the fishes gain more weight as they grow in height, but the weight gain isnt the same in all species, some has a sharp weight rise as they gain little gain, while some are gradual.\n",
    "\n",
    "2. whiles in the case of the width of the fishes there seems to be a uniform weight gain rate between the species."
   ]
  },
  {
   "cell_type": "markdown",
   "metadata": {},
   "source": [
    "we will be transforming the categorical data with the help of columntransformer"
   ]
  },
  {
   "cell_type": "code",
   "execution_count": 18,
   "metadata": {
    "ExecuteTime": {
     "end_time": "2020-02-18T22:14:25.840535Z",
     "start_time": "2020-02-18T22:14:25.796283Z"
    }
   },
   "outputs": [],
   "source": [
    "encode = preprocessing.LabelEncoder()\n",
    "x['Species']= encode.fit_transform(x['Species'])\n",
    "\n",
    "transformer = ColumnTransformer([('transfor', OneHotEncoder(), ['Species'] )],  remainder = 'passthrough')\n",
    "x=  np.array(transformer.fit_transform(x), dtype = np.float)"
   ]
  },
  {
   "cell_type": "code",
   "execution_count": 19,
   "metadata": {
    "ExecuteTime": {
     "end_time": "2020-02-18T22:14:25.982199Z",
     "start_time": "2020-02-18T22:14:25.842530Z"
    }
   },
   "outputs": [
    {
     "data": {
      "text/plain": [
       "(159, 12)"
      ]
     },
     "execution_count": 19,
     "metadata": {},
     "output_type": "execute_result"
    }
   ],
   "source": [
    "x.shape"
   ]
  },
  {
   "cell_type": "code",
   "execution_count": 20,
   "metadata": {
    "ExecuteTime": {
     "end_time": "2020-02-18T22:14:26.259571Z",
     "start_time": "2020-02-18T22:14:25.983197Z"
    }
   },
   "outputs": [],
   "source": [
    "x = pd.DataFrame(x)\n",
    "pd.set_option('display.max_rows', None)\n",
    "pd.set_option('display.max_columns', None)\n",
    "pd.set_option('display.width', None)\n",
    "pd.set_option('display.max_colwidth', -1)"
   ]
  },
  {
   "cell_type": "code",
   "execution_count": null,
   "metadata": {},
   "outputs": [],
   "source": []
  },
  {
   "cell_type": "markdown",
   "metadata": {},
   "source": [
    "         As a precaution we are going to drop one of the dummy variable to avoid the dummy variable trap"
   ]
  },
  {
   "cell_type": "code",
   "execution_count": 21,
   "metadata": {
    "ExecuteTime": {
     "end_time": "2020-02-18T22:14:26.437968Z",
     "start_time": "2020-02-18T22:14:26.260568Z"
    }
   },
   "outputs": [],
   "source": [
    "x = x.drop(columns = [0])\n"
   ]
  },
  {
   "cell_type": "code",
   "execution_count": 22,
   "metadata": {
    "ExecuteTime": {
     "end_time": "2020-02-18T22:14:26.637434Z",
     "start_time": "2020-02-18T22:14:26.438965Z"
    }
   },
   "outputs": [],
   "source": [
    "\n",
    "x.columns=['Perkki' ,'Perch','Piki' ,'Roach', 'Smelt', 'Whitefish', 'Body Height',  'Total Length',  'Diagonal Length', \n",
    "           'Height', 'Width']"
   ]
  },
  {
   "cell_type": "code",
   "execution_count": null,
   "metadata": {},
   "outputs": [],
   "source": []
  },
  {
   "cell_type": "code",
   "execution_count": 23,
   "metadata": {
    "ExecuteTime": {
     "end_time": "2020-02-18T22:14:26.782081Z",
     "start_time": "2020-02-18T22:14:26.638432Z"
    }
   },
   "outputs": [
    {
     "data": {
      "text/plain": [
       "(159, 11)"
      ]
     },
     "execution_count": 23,
     "metadata": {},
     "output_type": "execute_result"
    }
   ],
   "source": [
    "x.shape"
   ]
  },
  {
   "cell_type": "code",
   "execution_count": 24,
   "metadata": {
    "ExecuteTime": {
     "end_time": "2020-02-18T22:14:26.945644Z",
     "start_time": "2020-02-18T22:14:26.783115Z"
    }
   },
   "outputs": [
    {
     "data": {
      "text/plain": [
       "RandomForestRegressor(bootstrap=True, ccp_alpha=0.0, criterion='mse',\n",
       "                      max_depth=None, max_features='auto', max_leaf_nodes=None,\n",
       "                      max_samples=None, min_impurity_decrease=0.0,\n",
       "                      min_impurity_split=None, min_samples_leaf=1,\n",
       "                      min_samples_split=2, min_weight_fraction_leaf=0.0,\n",
       "                      n_estimators=20, n_jobs=None, oob_score=False,\n",
       "                      random_state=0, verbose=0, warm_start=False)"
      ]
     },
     "execution_count": 24,
     "metadata": {},
     "output_type": "execute_result"
    }
   ],
   "source": [
    "X_train, X_test, Y_train, Y_test = train_test_split(x,y, test_size = 0.2, random_state = 0)\n",
    "ran_reg = RandomForestRegressor(n_estimators = 20, random_state= 0)\n",
    "lin_reg = LinearRegression()  \n",
    "lin_reg.fit(X_train, Y_train)\n",
    "ran_reg.fit(X_train,Y_train)"
   ]
  },
  {
   "cell_type": "code",
   "execution_count": null,
   "metadata": {},
   "outputs": [],
   "source": []
  },
  {
   "cell_type": "code",
   "execution_count": 25,
   "metadata": {
    "ExecuteTime": {
     "end_time": "2020-02-18T22:14:27.106261Z",
     "start_time": "2020-02-18T22:14:26.946641Z"
    }
   },
   "outputs": [],
   "source": [
    "y_pred = lin_reg.predict(X_test)\n",
    "y_ran_pred = ran_reg.predict(X_test)\n",
    "y_pred_error = mean_absolute_error(Y_test , y_pred)\n",
    "y_ran_error = mean_absolute_error(Y_test, y_ran_pred)\n",
    "y_pred_r2_score = r2_score(Y_test, y_pred)\n",
    "y_ran_r2_score = r2_score(Y_test, y_ran_pred)\n"
   ]
  },
  {
   "cell_type": "code",
   "execution_count": 26,
   "metadata": {
    "ExecuteTime": {
     "end_time": "2020-02-18T22:14:27.317970Z",
     "start_time": "2020-02-18T22:14:27.107247Z"
    }
   },
   "outputs": [
    {
     "name": "stdout",
     "output_type": "stream",
     "text": [
      "Result of using a Linear Regression Model\n",
      " [ 428.88533577   98.08363614  216.67998922  208.66936638  657.24094116\n",
      "  876.38855413  665.97861965  407.27203048  965.65306863  146.62291102\n",
      "  255.15532231  561.63685124  765.67575361 1012.38234027 -118.72798063\n",
      "   14.47341216  137.60789564 1155.53572308  170.97092949  724.93548455\n",
      " -128.48675188  525.45508599  175.3519065  1322.74816983  -23.0873263\n",
      "  475.44172778  719.96841977  280.94571114  885.12085107  -16.63412226\n",
      "  585.26038657  164.22863371] \n",
      "..............................................\n",
      "\n",
      "Result of using a Random Forest Regression Model\n",
      " [ 406.9    126.5    167.75   153.5    670.7    945.75   709.75   331.25\n",
      "  988.     113.6    306.75   482.25   953.    1050.75    55.595   90.7\n",
      "  146.    1445.     125.25   710.95    50.69   552.5    130.25  1342.5\n",
      "   80.875  458.25   685.45   276.2    973.5      8.25   655.5    118.8  ]\n"
     ]
    }
   ],
   "source": [
    "print('Result of using a Linear Regression Model\\n',\n",
    "      y_pred,'\\n..............................................\\n')\n",
    "print('Result of using a Random Forest Regression Model\\n',y_ran_pred)"
   ]
  },
  {
   "cell_type": "code",
   "execution_count": null,
   "metadata": {},
   "outputs": [],
   "source": []
  },
  {
   "cell_type": "code",
   "execution_count": null,
   "metadata": {},
   "outputs": [],
   "source": []
  },
  {
   "cell_type": "code",
   "execution_count": 27,
   "metadata": {
    "ExecuteTime": {
     "end_time": "2020-02-18T22:14:27.460464Z",
     "start_time": "2020-02-18T22:14:27.318967Z"
    }
   },
   "outputs": [
    {
     "data": {
      "text/plain": [
       "array([ 406.9  ,  126.5  ,  167.75 ,  153.5  ,  670.7  ,  945.75 ,\n",
       "        709.75 ,  331.25 ,  988.   ,  113.6  ,  306.75 ,  482.25 ,\n",
       "        953.   , 1050.75 ,   55.595,   90.7  ,  146.   , 1445.   ,\n",
       "        125.25 ,  710.95 ,   50.69 ,  552.5  ,  130.25 , 1342.5  ,\n",
       "         80.875,  458.25 ,  685.45 ,  276.2  ,  973.5  ,    8.25 ,\n",
       "        655.5  ,  118.8  ])"
      ]
     },
     "execution_count": 27,
     "metadata": {},
     "output_type": "execute_result"
    }
   ],
   "source": [
    "y_ran_pred"
   ]
  },
  {
   "cell_type": "code",
   "execution_count": 28,
   "metadata": {
    "ExecuteTime": {
     "end_time": "2020-02-18T22:14:27.659886Z",
     "start_time": "2020-02-18T22:14:27.461461Z"
    }
   },
   "outputs": [
    {
     "data": {
      "text/plain": [
       "88.69881474243417"
      ]
     },
     "execution_count": 28,
     "metadata": {},
     "output_type": "execute_result"
    }
   ],
   "source": [
    "y_pred_error"
   ]
  },
  {
   "cell_type": "code",
   "execution_count": 29,
   "metadata": {
    "ExecuteTime": {
     "end_time": "2020-02-18T22:14:27.804756Z",
     "start_time": "2020-02-18T22:14:27.660884Z"
    }
   },
   "outputs": [
    {
     "data": {
      "text/plain": [
       "47.7528125"
      ]
     },
     "execution_count": 29,
     "metadata": {},
     "output_type": "execute_result"
    }
   ],
   "source": [
    "y_ran_error"
   ]
  },
  {
   "cell_type": "code",
   "execution_count": 30,
   "metadata": {
    "ExecuteTime": {
     "end_time": "2020-02-18T22:14:27.949369Z",
     "start_time": "2020-02-18T22:14:27.805753Z"
    }
   },
   "outputs": [
    {
     "data": {
      "text/plain": [
       "0.9102350316202603"
      ]
     },
     "execution_count": 30,
     "metadata": {},
     "output_type": "execute_result"
    }
   ],
   "source": [
    "y_pred_r2_score"
   ]
  },
  {
   "cell_type": "code",
   "execution_count": 31,
   "metadata": {
    "ExecuteTime": {
     "end_time": "2020-02-18T22:14:28.094223Z",
     "start_time": "2020-02-18T22:14:27.950366Z"
    }
   },
   "outputs": [
    {
     "data": {
      "text/plain": [
       "array([ 406.9  ,  126.5  ,  167.75 ,  153.5  ,  670.7  ,  945.75 ,\n",
       "        709.75 ,  331.25 ,  988.   ,  113.6  ,  306.75 ,  482.25 ,\n",
       "        953.   , 1050.75 ,   55.595,   90.7  ,  146.   , 1445.   ,\n",
       "        125.25 ,  710.95 ,   50.69 ,  552.5  ,  130.25 , 1342.5  ,\n",
       "         80.875,  458.25 ,  685.45 ,  276.2  ,  973.5  ,    8.25 ,\n",
       "        655.5  ,  118.8  ])"
      ]
     },
     "execution_count": 31,
     "metadata": {},
     "output_type": "execute_result"
    }
   ],
   "source": [
    "y_ran_pred"
   ]
  },
  {
   "cell_type": "code",
   "execution_count": 32,
   "metadata": {
    "ExecuteTime": {
     "end_time": "2020-02-18T22:14:28.217748Z",
     "start_time": "2020-02-18T22:14:28.095221Z"
    }
   },
   "outputs": [
    {
     "data": {
      "text/plain": [
       "7      390.0 \n",
       "40     0.0   \n",
       "95     170.0 \n",
       "45     160.0 \n",
       "110    556.0 \n",
       "120    900.0 \n",
       "59     800.0 \n",
       "131    300.0 \n",
       "33     975.0 \n",
       "83     115.0 \n",
       "128    200.0 \n",
       "134    456.0 \n",
       "60     1000.0\n",
       "126    1000.0\n",
       "62     60.0  \n",
       "37     78.0  \n",
       "44     145.0 \n",
       "142    1600.0\n",
       "85     130.0 \n",
       "26     720.0 \n",
       "61     55.0  \n",
       "54     390.0 \n",
       "86     120.0 \n",
       "144    1650.0\n",
       "63     90.0  \n",
       "8      450.0 \n",
       "24     700.0 \n",
       "56     270.0 \n",
       "119    850.0 \n",
       "148    9.7   \n",
       "19     650.0 \n",
       "90     110.0 \n",
       "Name: Weight, dtype: float64"
      ]
     },
     "execution_count": 32,
     "metadata": {},
     "output_type": "execute_result"
    }
   ],
   "source": [
    "Y_test\n",
    "\n",
    "\n"
   ]
  },
  {
   "cell_type": "code",
   "execution_count": null,
   "metadata": {},
   "outputs": [],
   "source": []
  },
  {
   "cell_type": "code",
   "execution_count": null,
   "metadata": {},
   "outputs": [],
   "source": []
  },
  {
   "cell_type": "code",
   "execution_count": null,
   "metadata": {},
   "outputs": [],
   "source": []
  },
  {
   "cell_type": "code",
   "execution_count": null,
   "metadata": {},
   "outputs": [],
   "source": []
  },
  {
   "cell_type": "code",
   "execution_count": null,
   "metadata": {},
   "outputs": [],
   "source": []
  },
  {
   "cell_type": "code",
   "execution_count": null,
   "metadata": {},
   "outputs": [],
   "source": []
  },
  {
   "cell_type": "code",
   "execution_count": null,
   "metadata": {},
   "outputs": [],
   "source": []
  },
  {
   "cell_type": "code",
   "execution_count": null,
   "metadata": {},
   "outputs": [],
   "source": []
  },
  {
   "cell_type": "code",
   "execution_count": null,
   "metadata": {},
   "outputs": [],
   "source": []
  },
  {
   "cell_type": "code",
   "execution_count": null,
   "metadata": {},
   "outputs": [],
   "source": []
  },
  {
   "cell_type": "code",
   "execution_count": null,
   "metadata": {},
   "outputs": [],
   "source": []
  },
  {
   "cell_type": "code",
   "execution_count": null,
   "metadata": {},
   "outputs": [],
   "source": []
  },
  {
   "cell_type": "code",
   "execution_count": null,
   "metadata": {},
   "outputs": [],
   "source": []
  },
  {
   "cell_type": "code",
   "execution_count": null,
   "metadata": {},
   "outputs": [],
   "source": []
  },
  {
   "cell_type": "code",
   "execution_count": null,
   "metadata": {},
   "outputs": [],
   "source": []
  },
  {
   "cell_type": "code",
   "execution_count": null,
   "metadata": {},
   "outputs": [],
   "source": []
  },
  {
   "cell_type": "code",
   "execution_count": null,
   "metadata": {},
   "outputs": [],
   "source": []
  }
 ],
 "metadata": {
  "kernelspec": {
   "display_name": "Python 3",
   "language": "python",
   "name": "python3"
  },
  "language_info": {
   "codemirror_mode": {
    "name": "ipython",
    "version": 3
   },
   "file_extension": ".py",
   "mimetype": "text/x-python",
   "name": "python",
   "nbconvert_exporter": "python",
   "pygments_lexer": "ipython3",
   "version": "3.7.6"
  },
  "toc": {
   "base_numbering": 1,
   "nav_menu": {},
   "number_sections": true,
   "sideBar": true,
   "skip_h1_title": false,
   "title_cell": "Table of Contents",
   "title_sidebar": "Contents",
   "toc_cell": false,
   "toc_position": {},
   "toc_section_display": true,
   "toc_window_display": false
  }
 },
 "nbformat": 4,
 "nbformat_minor": 2
}
